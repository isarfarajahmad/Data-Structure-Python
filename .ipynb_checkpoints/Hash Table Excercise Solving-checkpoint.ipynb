{
 "cells": [
  {
   "cell_type": "markdown",
   "metadata": {},
   "source": [
    "# Exercise: Hash Table"
   ]
  },
  {
   "cell_type": "markdown",
   "metadata": {},
   "source": [
    "nyc_weather.csv contains new york city weather for first few days in the month of January. Write a program that can answer following,\n",
    "        What was the average temperature in first week of Jan\n",
    "        What was the maximum temperature in first 10 days of Jan\n",
    "\n",
    "Figure out data structure that is best for this problem"
   ]
  },
  {
   "cell_type": "code",
   "execution_count": 4,
   "metadata": {},
   "outputs": [
    {
     "name": "stdout",
     "output_type": "stream",
     "text": [
      "Invalid temperature.Ignore the row\n"
     ]
    }
   ],
   "source": [
    "arr = []\n",
    "\n",
    "with open(\"nyc_weather.csv\",\"r\") as f:\n",
    "    for line in f:\n",
    "        tokens = line.split(',')\n",
    "        try:\n",
    "            temperature = int(tokens[1])\n",
    "            arr.append(temperature)\n",
    "        except:\n",
    "            print(\"Invalid temperature.Ignore the row\")"
   ]
  },
  {
   "cell_type": "code",
   "execution_count": 5,
   "metadata": {},
   "outputs": [
    {
     "data": {
      "text/plain": [
       "[27, 31, 23, 34, 37, 38, 29, 30, 35, 30]"
      ]
     },
     "execution_count": 5,
     "metadata": {},
     "output_type": "execute_result"
    }
   ],
   "source": [
    "arr"
   ]
  },
  {
   "cell_type": "markdown",
   "metadata": {},
   "source": [
    "#### What was the average temperature in first week of Jan"
   ]
  },
  {
   "cell_type": "code",
   "execution_count": 6,
   "metadata": {},
   "outputs": [
    {
     "data": {
      "text/plain": [
       "31.285714285714285"
      ]
     },
     "execution_count": 6,
     "metadata": {},
     "output_type": "execute_result"
    }
   ],
   "source": [
    "sum(arr[0:7])/len(arr[0:7])"
   ]
  },
  {
   "cell_type": "markdown",
   "metadata": {},
   "source": [
    "##### What was the maximum temperature in first 10 days of Jan"
   ]
  },
  {
   "cell_type": "code",
   "execution_count": 7,
   "metadata": {},
   "outputs": [
    {
     "data": {
      "text/plain": [
       "[31, 23, 34, 37, 38, 29, 30, 35, 30]"
      ]
     },
     "execution_count": 7,
     "metadata": {},
     "output_type": "execute_result"
    }
   ],
   "source": [
    "arr[1:11]"
   ]
  },
  {
   "cell_type": "code",
   "execution_count": 8,
   "metadata": {},
   "outputs": [
    {
     "data": {
      "text/plain": [
       "38"
      ]
     },
     "execution_count": 8,
     "metadata": {},
     "output_type": "execute_result"
    }
   ],
   "source": [
    "max(arr[1:11])"
   ]
  },
  {
   "cell_type": "markdown",
   "metadata": {},
   "source": [
    "\n",
    "\n",
    "The best data structure to use here was a list because all we wanted was access of temperature elements\n",
    "\n",
    "(2) nyc_weather.csv contains new york city weather for first few days in the month of January. Write a program that can answer following,\n",
    "\n",
    "  (a) What was the temperature on Jan 9?\n",
    "\n",
    "  (b) What was the temperature on Jan 4?\n",
    "\n",
    "  Figure out data structure that is best for this problem\n",
    "\n"
   ]
  },
  {
   "cell_type": "code",
   "execution_count": 9,
   "metadata": {},
   "outputs": [
    {
     "name": "stdout",
     "output_type": "stream",
     "text": [
      "Invalid temperature.Ignore the row\n"
     ]
    }
   ],
   "source": [
    "weather_dict = {}\n",
    "\n",
    "with open(\"nyc_weather.csv\",\"r\") as f:\n",
    "    for line in f:\n",
    "        tokens = line.split(',')\n",
    "        day = tokens[0]\n",
    "        try:\n",
    "            temperature = int(tokens[1])\n",
    "            weather_dict[day] = temperature\n",
    "        except:\n",
    "            print(\"Invalid temperature.Ignore the row\")\n"
   ]
  },
  {
   "cell_type": "code",
   "execution_count": 10,
   "metadata": {},
   "outputs": [
    {
     "data": {
      "text/plain": [
       "{'Jan 1': 27,\n",
       " 'Jan 2': 31,\n",
       " 'Jan 3': 23,\n",
       " 'Jan 4': 34,\n",
       " 'Jan 5': 37,\n",
       " 'Jan 6': 38,\n",
       " 'Jan 7': 29,\n",
       " 'Jan 8': 30,\n",
       " 'Jan 9': 35,\n",
       " 'Jan 10': 30}"
      ]
     },
     "execution_count": 10,
     "metadata": {},
     "output_type": "execute_result"
    }
   ],
   "source": [
    "weather_dict"
   ]
  },
  {
   "cell_type": "markdown",
   "metadata": {},
   "source": [
    "What was the temperature on Jan 9"
   ]
  },
  {
   "cell_type": "code",
   "execution_count": 11,
   "metadata": {},
   "outputs": [
    {
     "data": {
      "text/plain": [
       "35"
      ]
     },
     "execution_count": 11,
     "metadata": {},
     "output_type": "execute_result"
    }
   ],
   "source": [
    "weather_dict['Jan 9']"
   ]
  },
  {
   "cell_type": "markdown",
   "metadata": {},
   "source": [
    "##### What was the temperature on Jan 4"
   ]
  },
  {
   "cell_type": "code",
   "execution_count": 12,
   "metadata": {},
   "outputs": [
    {
     "data": {
      "text/plain": [
       "34"
      ]
     },
     "execution_count": 12,
     "metadata": {},
     "output_type": "execute_result"
    }
   ],
   "source": [
    "weather_dict['Jan 4']"
   ]
  },
  {
   "cell_type": "markdown",
   "metadata": {},
   "source": [
    "# Poem"
   ]
  },
  {
   "cell_type": "code",
   "execution_count": 13,
   "metadata": {},
   "outputs": [
    {
     "name": "stdout",
     "output_type": "stream",
     "text": [
      "Two roads diverged in a yellow wood,\n",
      "\n",
      "And sorry I could not travel both\n",
      "\n",
      "And be one traveler, long I stood\n",
      "\n",
      "And looked down one as far as I could\n",
      "\n",
      "To where it bent in the undergrowth;\n",
      "\n",
      "\n",
      "\n",
      "Then took the other, as just as fair,\n",
      "\n",
      "And having perhaps the better claim,\n",
      "\n",
      "Because it was grassy and wanted wear;\n",
      "\n",
      "Though as for that the passing there\n",
      "\n",
      "Had worn them really about the same,\n",
      "\n",
      "\n",
      "\n",
      "And both that morning equally lay\n",
      "\n",
      "In leaves no step had trodden black.\n",
      "\n",
      "Oh, I kept the first for another day!\n",
      "\n",
      "Yet knowing how way leads on to way,\n",
      "\n",
      "I doubted if I should ever come back.\n",
      "\n",
      "\n",
      "\n",
      "I shall be telling this with a sigh\n",
      "\n",
      "Somewhere ages and ages hence:\n",
      "\n",
      "Two roads diverged in a wood, and I—\n",
      "\n",
      "I took the one less traveled by,\n",
      "\n",
      "And that has made all the difference.\n"
     ]
    }
   ],
   "source": [
    "with open(\"poem.txt\",\"r\") as f:\n",
    "    for line in f:\n",
    "        print(line)"
   ]
  },
  {
   "cell_type": "code",
   "execution_count": 14,
   "metadata": {},
   "outputs": [],
   "source": [
    "word_count = {}\n",
    "with open(\"poem.txt\",\"r\") as f:\n",
    "    for line in f:\n",
    "        tokens = line.split(' ')\n",
    "        for token in tokens:\n",
    "            token=token.replace('\\n','')\n",
    "            if token in word_count:\n",
    "                word_count[token]+=1\n",
    "            else:\n",
    "                word_count[token]=1"
   ]
  },
  {
   "cell_type": "code",
   "execution_count": 15,
   "metadata": {},
   "outputs": [
    {
     "data": {
      "text/plain": [
       "{'Two': 2,\n",
       " 'roads': 2,\n",
       " 'diverged': 2,\n",
       " 'in': 3,\n",
       " 'a': 3,\n",
       " 'yellow': 1,\n",
       " 'wood,': 2,\n",
       " 'And': 6,\n",
       " 'sorry': 1,\n",
       " 'I': 8,\n",
       " 'could': 2,\n",
       " 'not': 1,\n",
       " 'travel': 1,\n",
       " 'both': 2,\n",
       " 'be': 2,\n",
       " 'one': 3,\n",
       " 'traveler,': 1,\n",
       " 'long': 1,\n",
       " 'stood': 1,\n",
       " 'looked': 1,\n",
       " 'down': 1,\n",
       " 'as': 5,\n",
       " 'far': 1,\n",
       " 'To': 1,\n",
       " 'where': 1,\n",
       " 'it': 2,\n",
       " 'bent': 1,\n",
       " 'the': 8,\n",
       " 'undergrowth;': 1,\n",
       " '': 3,\n",
       " 'Then': 1,\n",
       " 'took': 2,\n",
       " 'other,': 1,\n",
       " 'just': 1,\n",
       " 'fair,': 1,\n",
       " 'having': 1,\n",
       " 'perhaps': 1,\n",
       " 'better': 1,\n",
       " 'claim,': 1,\n",
       " 'Because': 1,\n",
       " 'was': 1,\n",
       " 'grassy': 1,\n",
       " 'and': 3,\n",
       " 'wanted': 1,\n",
       " 'wear;': 1,\n",
       " 'Though': 1,\n",
       " 'for': 2,\n",
       " 'that': 3,\n",
       " 'passing': 1,\n",
       " 'there': 1,\n",
       " 'Had': 1,\n",
       " 'worn': 1,\n",
       " 'them': 1,\n",
       " 'really': 1,\n",
       " 'about': 1,\n",
       " 'same,': 1,\n",
       " 'morning': 1,\n",
       " 'equally': 1,\n",
       " 'lay': 1,\n",
       " 'In': 1,\n",
       " 'leaves': 1,\n",
       " 'no': 1,\n",
       " 'step': 1,\n",
       " 'had': 1,\n",
       " 'trodden': 1,\n",
       " 'black.': 1,\n",
       " 'Oh,': 1,\n",
       " 'kept': 1,\n",
       " 'first': 1,\n",
       " 'another': 1,\n",
       " 'day!': 1,\n",
       " 'Yet': 1,\n",
       " 'knowing': 1,\n",
       " 'how': 1,\n",
       " 'way': 1,\n",
       " 'leads': 1,\n",
       " 'on': 1,\n",
       " 'to': 1,\n",
       " 'way,': 1,\n",
       " 'doubted': 1,\n",
       " 'if': 1,\n",
       " 'should': 1,\n",
       " 'ever': 1,\n",
       " 'come': 1,\n",
       " 'back.': 1,\n",
       " 'shall': 1,\n",
       " 'telling': 1,\n",
       " 'this': 1,\n",
       " 'with': 1,\n",
       " 'sigh': 1,\n",
       " 'Somewhere': 1,\n",
       " 'ages': 2,\n",
       " 'hence:': 1,\n",
       " 'I—': 1,\n",
       " 'less': 1,\n",
       " 'traveled': 1,\n",
       " 'by,': 1,\n",
       " 'has': 1,\n",
       " 'made': 1,\n",
       " 'all': 1,\n",
       " 'difference.': 1}"
      ]
     },
     "execution_count": 15,
     "metadata": {},
     "output_type": "execute_result"
    }
   ],
   "source": [
    "word_count"
   ]
  },
  {
   "cell_type": "markdown",
   "metadata": {},
   "source": [
    "# Implement hash table where collisions are handled using linear probing. We learnt about linear probing in the video tutorial. Take the hash table implementation that uses chaining and modify methods to use linear probing. Keep MAX size of arr in hashtable as 10"
   ]
  },
  {
   "cell_type": "code",
   "execution_count": 16,
   "metadata": {},
   "outputs": [],
   "source": [
    "class HashTable:  \n",
    "    def __init__(self):\n",
    "        self.MAX = 10 # I am keeping size very low to demonstrate linear probing easily but usually the size should be high\n",
    "        self.arr = [None for i in range(self.MAX)]\n",
    "        \n",
    "    def get_hash(self, key):\n",
    "        hash = 0\n",
    "        for char in key:\n",
    "            hash += ord(char)\n",
    "        return hash % self.MAX\n",
    "    \n",
    "    def __getitem__(self, key):\n",
    "        h = self.get_hash(key)\n",
    "        if self.arr[h] is None:\n",
    "            return\n",
    "        prob_range = self.get_prob_range(h)\n",
    "        for prob_index in prob_range:\n",
    "            element = self.arr[prob_index]\n",
    "            if element is None:\n",
    "                return\n",
    "            if element[0] == key:\n",
    "                return element[1]\n",
    "           \n",
    "    def __setitem__(self, key, val):\n",
    "        h = self.get_hash(key)\n",
    "        if self.arr[h] is None:\n",
    "            self.arr[h] = (key,val)\n",
    "        else:\n",
    "            new_h = self.find_slot(key, h)\n",
    "            self.arr[new_h] = (key,val)\n",
    "        print(self.arr)\n",
    "        \n",
    "    def get_prob_range(self, index):\n",
    "        return [*range(index, len(self.arr))] + [*range(0,index)]\n",
    "    \n",
    "    def find_slot(self, key, index):\n",
    "        prob_range = self.get_prob_range(index)\n",
    "        for prob_index in prob_range:\n",
    "            if self.arr[prob_index] is None:\n",
    "                return prob_index\n",
    "            if self.arr[prob_index][0] == key:\n",
    "                return prob_index\n",
    "        raise Exception(\"Hashmap full\")\n",
    "        \n",
    "    def __delitem__(self, key):\n",
    "        h = self.get_hash(key)\n",
    "        prob_range = self.get_prob_range(h)\n",
    "        for prob_index in prob_range:\n",
    "            if self.arr[prob_index] is None:\n",
    "                return # item not found so return. You can also throw exception\n",
    "            if self.arr[prob_index][0] == key:\n",
    "                self.arr[prob_index]=None\n",
    "        print(self.arr)"
   ]
  },
  {
   "cell_type": "code",
   "execution_count": 17,
   "metadata": {},
   "outputs": [
    {
     "data": {
      "text/plain": [
       "[5, 6, 7, 0, 1, 2, 3]"
      ]
     },
     "execution_count": 17,
     "metadata": {},
     "output_type": "execute_result"
    }
   ],
   "source": [
    "[*range(5,8)] + [*range(0,4)]"
   ]
  },
  {
   "cell_type": "code",
   "execution_count": 18,
   "metadata": {},
   "outputs": [
    {
     "name": "stdout",
     "output_type": "stream",
     "text": [
      "[None, None, None, None, None, None, None, None, None, ('march 6', 20)]\n",
      "[('march 17', 88), None, None, None, None, None, None, None, None, ('march 6', 20)]\n"
     ]
    }
   ],
   "source": [
    "t = HashTable()\n",
    "t[\"march 6\"] = 20\n",
    "t[\"march 17\"] =  88"
   ]
  },
  {
   "cell_type": "code",
   "execution_count": 19,
   "metadata": {},
   "outputs": [
    {
     "name": "stdout",
     "output_type": "stream",
     "text": [
      "[('march 17', 29), None, None, None, None, None, None, None, None, ('march 6', 20)]\n"
     ]
    }
   ],
   "source": [
    "t[\"march 17\"] = 29"
   ]
  },
  {
   "cell_type": "code",
   "execution_count": 20,
   "metadata": {},
   "outputs": [
    {
     "name": "stdout",
     "output_type": "stream",
     "text": [
      "[('march 17', 29), ('nov 1', 1), None, None, None, None, None, None, None, ('march 6', 20)]\n"
     ]
    }
   ],
   "source": [
    "t[\"nov 1\"] = 1"
   ]
  },
  {
   "cell_type": "code",
   "execution_count": 21,
   "metadata": {},
   "outputs": [
    {
     "name": "stdout",
     "output_type": "stream",
     "text": [
      "[('march 17', 29), ('nov 1', 1), None, None, None, None, None, ('march 33', 234), None, ('march 6', 20)]\n"
     ]
    }
   ],
   "source": [
    "t[\"march 33\"] = 234"
   ]
  },
  {
   "cell_type": "code",
   "execution_count": 22,
   "metadata": {},
   "outputs": [],
   "source": [
    "t[\"dec 1\"]"
   ]
  },
  {
   "cell_type": "code",
   "execution_count": 23,
   "metadata": {},
   "outputs": [
    {
     "data": {
      "text/plain": [
       "234"
      ]
     },
     "execution_count": 23,
     "metadata": {},
     "output_type": "execute_result"
    }
   ],
   "source": [
    "t[\"march 33\"]\n"
   ]
  },
  {
   "cell_type": "code",
   "execution_count": 24,
   "metadata": {},
   "outputs": [
    {
     "name": "stdout",
     "output_type": "stream",
     "text": [
      "[('march 17', 29), ('nov 1', 1), None, None, None, None, None, ('march 33', 999), None, ('march 6', 20)]\n"
     ]
    }
   ],
   "source": [
    "t[\"march 33\"] = 999"
   ]
  },
  {
   "cell_type": "code",
   "execution_count": 25,
   "metadata": {},
   "outputs": [
    {
     "data": {
      "text/plain": [
       "999"
      ]
     },
     "execution_count": 25,
     "metadata": {},
     "output_type": "execute_result"
    }
   ],
   "source": [
    "t[\"march 33\"]"
   ]
  },
  {
   "cell_type": "code",
   "execution_count": 26,
   "metadata": {},
   "outputs": [
    {
     "name": "stdout",
     "output_type": "stream",
     "text": [
      "[('march 17', 29), ('nov 1', 1), None, None, None, None, None, ('march 33', 999), ('april 1', 87), ('march 6', 20)]\n"
     ]
    }
   ],
   "source": [
    "t[\"april 1\"]=87"
   ]
  },
  {
   "cell_type": "code",
   "execution_count": 27,
   "metadata": {},
   "outputs": [
    {
     "name": "stdout",
     "output_type": "stream",
     "text": [
      "[('march 17', 29), ('nov 1', 1), ('april 2', 123), None, None, None, None, ('march 33', 999), ('april 1', 87), ('march 6', 20)]\n"
     ]
    }
   ],
   "source": [
    "\n",
    "\n",
    "t[\"april 2\"]=123\n",
    "\n"
   ]
  },
  {
   "cell_type": "code",
   "execution_count": 28,
   "metadata": {},
   "outputs": [
    {
     "name": "stdout",
     "output_type": "stream",
     "text": [
      "[('march 17', 29), ('nov 1', 1), ('april 2', 123), ('april 3', 234234), None, None, None, ('march 33', 999), ('april 1', 87), ('march 6', 20)]\n"
     ]
    }
   ],
   "source": [
    "t[\"april 3\"]=234234"
   ]
  },
  {
   "cell_type": "code",
   "execution_count": 29,
   "metadata": {},
   "outputs": [
    {
     "name": "stdout",
     "output_type": "stream",
     "text": [
      "[('march 17', 29), ('nov 1', 1), ('april 2', 123), ('april 3', 234234), ('april 4', 91), None, None, ('march 33', 999), ('april 1', 87), ('march 6', 20)]\n"
     ]
    }
   ],
   "source": [
    "t[\"april 4\"]=91"
   ]
  },
  {
   "cell_type": "code",
   "execution_count": 30,
   "metadata": {},
   "outputs": [
    {
     "name": "stdout",
     "output_type": "stream",
     "text": [
      "[('march 17', 29), ('nov 1', 1), ('april 2', 123), ('april 3', 234234), ('april 4', 91), ('May 22', 4), None, ('march 33', 999), ('april 1', 87), ('march 6', 20)]\n"
     ]
    }
   ],
   "source": [
    "t[\"May 22\"]=4"
   ]
  },
  {
   "cell_type": "code",
   "execution_count": 31,
   "metadata": {},
   "outputs": [
    {
     "name": "stdout",
     "output_type": "stream",
     "text": [
      "[('march 17', 29), ('nov 1', 1), ('april 2', 123), ('april 3', 234234), ('april 4', 91), ('May 22', 4), ('May 7', 47), ('march 33', 999), ('april 1', 87), ('march 6', 20)]\n"
     ]
    }
   ],
   "source": [
    "t[\"May 7\"]=47"
   ]
  },
  {
   "cell_type": "code",
   "execution_count": 32,
   "metadata": {},
   "outputs": [
    {
     "ename": "Exception",
     "evalue": "Hashmap full",
     "output_type": "error",
     "traceback": [
      "\u001b[0;31m---------------------------------------------------------------------------\u001b[0m",
      "\u001b[0;31mException\u001b[0m                                 Traceback (most recent call last)",
      "\u001b[0;32m<ipython-input-32-8bb11a70eaa7>\u001b[0m in \u001b[0;36m<module>\u001b[0;34m\u001b[0m\n\u001b[0;32m----> 1\u001b[0;31m \u001b[0mt\u001b[0m\u001b[0;34m[\u001b[0m\u001b[0;34m\"Jan 1\"\u001b[0m\u001b[0;34m]\u001b[0m\u001b[0;34m=\u001b[0m\u001b[0;36m0\u001b[0m\u001b[0;34m\u001b[0m\u001b[0;34m\u001b[0m\u001b[0m\n\u001b[0m",
      "\u001b[0;32m<ipython-input-16-83ef0e71236e>\u001b[0m in \u001b[0;36m__setitem__\u001b[0;34m(self, key, val)\u001b[0m\n\u001b[1;32m     27\u001b[0m             \u001b[0mself\u001b[0m\u001b[0;34m.\u001b[0m\u001b[0marr\u001b[0m\u001b[0;34m[\u001b[0m\u001b[0mh\u001b[0m\u001b[0;34m]\u001b[0m \u001b[0;34m=\u001b[0m \u001b[0;34m(\u001b[0m\u001b[0mkey\u001b[0m\u001b[0;34m,\u001b[0m\u001b[0mval\u001b[0m\u001b[0;34m)\u001b[0m\u001b[0;34m\u001b[0m\u001b[0;34m\u001b[0m\u001b[0m\n\u001b[1;32m     28\u001b[0m         \u001b[0;32melse\u001b[0m\u001b[0;34m:\u001b[0m\u001b[0;34m\u001b[0m\u001b[0;34m\u001b[0m\u001b[0m\n\u001b[0;32m---> 29\u001b[0;31m             \u001b[0mnew_h\u001b[0m \u001b[0;34m=\u001b[0m \u001b[0mself\u001b[0m\u001b[0;34m.\u001b[0m\u001b[0mfind_slot\u001b[0m\u001b[0;34m(\u001b[0m\u001b[0mkey\u001b[0m\u001b[0;34m,\u001b[0m \u001b[0mh\u001b[0m\u001b[0;34m)\u001b[0m\u001b[0;34m\u001b[0m\u001b[0;34m\u001b[0m\u001b[0m\n\u001b[0m\u001b[1;32m     30\u001b[0m             \u001b[0mself\u001b[0m\u001b[0;34m.\u001b[0m\u001b[0marr\u001b[0m\u001b[0;34m[\u001b[0m\u001b[0mnew_h\u001b[0m\u001b[0;34m]\u001b[0m \u001b[0;34m=\u001b[0m \u001b[0;34m(\u001b[0m\u001b[0mkey\u001b[0m\u001b[0;34m,\u001b[0m\u001b[0mval\u001b[0m\u001b[0;34m)\u001b[0m\u001b[0;34m\u001b[0m\u001b[0;34m\u001b[0m\u001b[0m\n\u001b[1;32m     31\u001b[0m         \u001b[0mprint\u001b[0m\u001b[0;34m(\u001b[0m\u001b[0mself\u001b[0m\u001b[0;34m.\u001b[0m\u001b[0marr\u001b[0m\u001b[0;34m)\u001b[0m\u001b[0;34m\u001b[0m\u001b[0;34m\u001b[0m\u001b[0m\n",
      "\u001b[0;32m<ipython-input-16-83ef0e71236e>\u001b[0m in \u001b[0;36mfind_slot\u001b[0;34m(self, key, index)\u001b[0m\n\u001b[1;32m     41\u001b[0m             \u001b[0;32mif\u001b[0m \u001b[0mself\u001b[0m\u001b[0;34m.\u001b[0m\u001b[0marr\u001b[0m\u001b[0;34m[\u001b[0m\u001b[0mprob_index\u001b[0m\u001b[0;34m]\u001b[0m\u001b[0;34m[\u001b[0m\u001b[0;36m0\u001b[0m\u001b[0;34m]\u001b[0m \u001b[0;34m==\u001b[0m \u001b[0mkey\u001b[0m\u001b[0;34m:\u001b[0m\u001b[0;34m\u001b[0m\u001b[0;34m\u001b[0m\u001b[0m\n\u001b[1;32m     42\u001b[0m                 \u001b[0;32mreturn\u001b[0m \u001b[0mprob_index\u001b[0m\u001b[0;34m\u001b[0m\u001b[0;34m\u001b[0m\u001b[0m\n\u001b[0;32m---> 43\u001b[0;31m         \u001b[0;32mraise\u001b[0m \u001b[0mException\u001b[0m\u001b[0;34m(\u001b[0m\u001b[0;34m\"Hashmap full\"\u001b[0m\u001b[0;34m)\u001b[0m\u001b[0;34m\u001b[0m\u001b[0;34m\u001b[0m\u001b[0m\n\u001b[0m\u001b[1;32m     44\u001b[0m \u001b[0;34m\u001b[0m\u001b[0m\n\u001b[1;32m     45\u001b[0m     \u001b[0;32mdef\u001b[0m \u001b[0m__delitem__\u001b[0m\u001b[0;34m(\u001b[0m\u001b[0mself\u001b[0m\u001b[0;34m,\u001b[0m \u001b[0mkey\u001b[0m\u001b[0;34m)\u001b[0m\u001b[0;34m:\u001b[0m\u001b[0;34m\u001b[0m\u001b[0;34m\u001b[0m\u001b[0m\n",
      "\u001b[0;31mException\u001b[0m: Hashmap full"
     ]
    }
   ],
   "source": [
    "t[\"Jan 1\"]=0"
   ]
  },
  {
   "cell_type": "code",
   "execution_count": 33,
   "metadata": {},
   "outputs": [
    {
     "name": "stdout",
     "output_type": "stream",
     "text": [
      "[('march 17', 29), ('nov 1', 1), None, ('april 3', 234234), ('april 4', 91), ('May 22', 4), ('May 7', 47), ('march 33', 999), ('april 1', 87), ('march 6', 20)]\n"
     ]
    }
   ],
   "source": [
    "del t[\"april 2\"]"
   ]
  },
  {
   "cell_type": "code",
   "execution_count": 34,
   "metadata": {},
   "outputs": [
    {
     "name": "stdout",
     "output_type": "stream",
     "text": [
      "[('march 17', 29), ('nov 1', 1), ('Jan 1', 0), ('april 3', 234234), ('april 4', 91), ('May 22', 4), ('May 7', 47), ('march 33', 999), ('april 1', 87), ('march 6', 20)]\n"
     ]
    }
   ],
   "source": [
    "t[\"Jan 1\"]=0"
   ]
  },
  {
   "cell_type": "code",
   "execution_count": null,
   "metadata": {},
   "outputs": [],
   "source": []
  }
 ],
 "metadata": {
  "kernelspec": {
   "display_name": "Python 3",
   "language": "python",
   "name": "python3"
  },
  "language_info": {
   "codemirror_mode": {
    "name": "ipython",
    "version": 3
   },
   "file_extension": ".py",
   "mimetype": "text/x-python",
   "name": "python",
   "nbconvert_exporter": "python",
   "pygments_lexer": "ipython3",
   "version": "3.6.9"
  }
 },
 "nbformat": 4,
 "nbformat_minor": 2
}
